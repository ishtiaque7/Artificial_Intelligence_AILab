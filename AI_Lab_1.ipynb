{
  "nbformat": 4,
  "nbformat_minor": 0,
  "metadata": {
    "colab": {
      "provenance": [],
      "authorship_tag": "ABX9TyP6Arf3B0WCYKcT3z/EUSY1",
      "include_colab_link": true
    },
    "kernelspec": {
      "name": "python3",
      "display_name": "Python 3"
    },
    "language_info": {
      "name": "python"
    }
  },
  "cells": [
    {
      "cell_type": "markdown",
      "metadata": {
        "id": "view-in-github",
        "colab_type": "text"
      },
      "source": [
        "<a href=\"https://colab.research.google.com/github/ishtiaque7/Artificial_Intelligence_AILab/blob/main/AI_Lab_1.ipynb\" target=\"_parent\"><img src=\"https://colab.research.google.com/assets/colab-badge.svg\" alt=\"Open In Colab\"/></a>"
      ]
    },
    {
      "cell_type": "code",
      "execution_count": null,
      "metadata": {
        "id": "_m2auJLP2wfX"
      },
      "outputs": [],
      "source": [
        "lst=[\"A\",\"B\",\"C\",\"D\",\"Python\", \"java\", \"C++\"]\n",
        "print(len(lst))"
      ]
    },
    {
      "cell_type": "code",
      "source": [
        "lst2=[\"A\",\"B\",\"C\",\"D\",\"Python\", \"java\", \"C++\",True,1,'a',3.225]\n",
        "type(lst2)"
      ],
      "metadata": {
        "id": "ls3PRWE1GInM",
        "colab": {
          "base_uri": "https://localhost:8080/"
        },
        "outputId": "440da9c9-3df6-4743-d638-a18e7feee4c0"
      },
      "execution_count": null,
      "outputs": [
        {
          "output_type": "execute_result",
          "data": {
            "text/plain": [
              "list"
            ]
          },
          "metadata": {},
          "execution_count": 5
        }
      ]
    },
    {
      "cell_type": "code",
      "source": [
        "type(lst2[-1])"
      ],
      "metadata": {
        "colab": {
          "base_uri": "https://localhost:8080/"
        },
        "id": "5mt9CfO9IwbU",
        "outputId": "3058ed9e-eab2-4067-d381-6bedec64d9d9"
      },
      "execution_count": null,
      "outputs": [
        {
          "output_type": "execute_result",
          "data": {
            "text/plain": [
              "float"
            ]
          },
          "metadata": {},
          "execution_count": 7
        }
      ]
    },
    {
      "cell_type": "code",
      "source": [
        "lst[1] = \"black\"\n",
        "print(lst)"
      ],
      "metadata": {
        "colab": {
          "base_uri": "https://localhost:8080/"
        },
        "id": "Y__irolVJBX-",
        "outputId": "7e4ce078-2db7-4fde-851a-2cb6846bf363"
      },
      "execution_count": null,
      "outputs": [
        {
          "output_type": "stream",
          "name": "stdout",
          "text": [
            "['A', 'black', 'C', 'D', 'Python', 'java', 'C++']\n"
          ]
        }
      ]
    },
    {
      "cell_type": "code",
      "source": [
        "lst.insert(3, \"watermelon\")\n",
        "lst"
      ],
      "metadata": {
        "colab": {
          "base_uri": "https://localhost:8080/"
        },
        "id": "2wkagFJiJfGQ",
        "outputId": "50f2fa0f-4b9a-4cc4-c643-3832c1917df5"
      },
      "execution_count": null,
      "outputs": [
        {
          "output_type": "execute_result",
          "data": {
            "text/plain": [
              "['A', 'black', 'C', 'watermelon', 'watermelon', 'D', 'Python', 'java', 'C++']"
            ]
          },
          "metadata": {},
          "execution_count": 12
        }
      ]
    },
    {
      "cell_type": "markdown",
      "source": [],
      "metadata": {
        "id": "YVldH2ngJl05"
      }
    },
    {
      "cell_type": "code",
      "source": [
        "lst3=[]\n",
        "n=int(input(\"Enter the number of elements in list: \"))\n",
        "for i in range(n):\n",
        "  ele=input(\"Enter: \")\n",
        "  lst3.append(ele)\n",
        "\n",
        "print(lst3)"
      ],
      "metadata": {
        "id": "qM96eVh6KYrz"
      },
      "execution_count": null,
      "outputs": []
    },
    {
      "cell_type": "code",
      "source": [
        "lst2=[\"A\",\"B\",\"C\",\"D\",\"Python\", \"java\", \"C++\",True,1,'a',3.225]\n",
        "del lst2[2]\n",
        "lst2"
      ],
      "metadata": {
        "colab": {
          "base_uri": "https://localhost:8080/"
        },
        "id": "1CHrgAbvKe5w",
        "outputId": "3db7a267-6793-47a5-dfe9-19b39866c58a"
      },
      "execution_count": null,
      "outputs": [
        {
          "output_type": "execute_result",
          "data": {
            "text/plain": [
              "['A', 'B', 'D', 'Python', 'java', 'C++', True, 1, 'a', 3.225]"
            ]
          },
          "metadata": {},
          "execution_count": 14
        }
      ]
    },
    {
      "cell_type": "code",
      "source": [
        "lst=[\"a\",\"b\",\"C\",\"D\",\"Python\", \"java\", \"C++\"]\n",
        "newlst = [x for x in lst if \"a\" in x]\n",
        "\n",
        "print(newlst)"
      ],
      "metadata": {
        "colab": {
          "base_uri": "https://localhost:8080/"
        },
        "id": "U163SqYDKrTp",
        "outputId": "16228ec9-7a41-46e3-b641-c52271cc3848"
      },
      "execution_count": null,
      "outputs": [
        {
          "output_type": "stream",
          "name": "stdout",
          "text": [
            "['a', 'java']\n"
          ]
        }
      ]
    },
    {
      "cell_type": "code",
      "source": [
        "l=['A', 'black', 'C', 'watermelon', 'watermelon', 'D', 'Python', 'java', 'C++']\n",
        "l.sort()\n",
        "l"
      ],
      "metadata": {
        "colab": {
          "base_uri": "https://localhost:8080/"
        },
        "id": "a9_5qmIfLZch",
        "outputId": "c8406bcc-df28-4bdb-ff91-797af5432e4d"
      },
      "execution_count": null,
      "outputs": [
        {
          "output_type": "execute_result",
          "data": {
            "text/plain": [
              "['A', 'C', 'C++', 'D', 'Python', 'black', 'java', 'watermelon', 'watermelon']"
            ]
          },
          "metadata": {},
          "execution_count": 23
        }
      ]
    },
    {
      "cell_type": "code",
      "source": [
        "l.sort(reverse = True)\n",
        "l"
      ],
      "metadata": {
        "colab": {
          "base_uri": "https://localhost:8080/"
        },
        "id": "v6Sjwgi-LxtR",
        "outputId": "2650c1e1-dae2-4629-ba76-defd020a9a93"
      },
      "execution_count": null,
      "outputs": [
        {
          "output_type": "execute_result",
          "data": {
            "text/plain": [
              "['watermelon', 'watermelon', 'java', 'black', 'Python', 'D', 'C++', 'C', 'A']"
            ]
          },
          "metadata": {},
          "execution_count": 24
        }
      ]
    },
    {
      "cell_type": "code",
      "source": [
        "l.reverse()\n",
        "l"
      ],
      "metadata": {
        "colab": {
          "base_uri": "https://localhost:8080/"
        },
        "id": "UWV4-KQOL2c5",
        "outputId": "bad4deed-906c-47d6-ec7f-00c6a25d3d1c"
      },
      "execution_count": null,
      "outputs": [
        {
          "output_type": "execute_result",
          "data": {
            "text/plain": [
              "['watermelon', 'watermelon', 'java', 'black', 'Python', 'D', 'C++', 'C', 'A']"
            ]
          },
          "metadata": {},
          "execution_count": 26
        }
      ]
    },
    {
      "cell_type": "markdown",
      "source": [
        "File"
      ],
      "metadata": {
        "id": "05_rETv-Mbtx"
      }
    },
    {
      "cell_type": "code",
      "source": [
        "from google.colab import files\n",
        "uploaded = files.upload()\n"
      ],
      "metadata": {
        "colab": {
          "base_uri": "https://localhost:8080/",
          "height": 73
        },
        "id": "2aye2R2DMChV",
        "outputId": "3c66415a-679d-4b6c-b40e-c57720ed933f"
      },
      "execution_count": null,
      "outputs": [
        {
          "output_type": "display_data",
          "data": {
            "text/plain": [
              "<IPython.core.display.HTML object>"
            ],
            "text/html": [
              "\n",
              "     <input type=\"file\" id=\"files-3c902fb1-c16d-4ff6-8671-ee7c0b4386c3\" name=\"files[]\" multiple disabled\n",
              "        style=\"border:none\" />\n",
              "     <output id=\"result-3c902fb1-c16d-4ff6-8671-ee7c0b4386c3\">\n",
              "      Upload widget is only available when the cell has been executed in the\n",
              "      current browser session. Please rerun this cell to enable.\n",
              "      </output>\n",
              "      <script>// Copyright 2017 Google LLC\n",
              "//\n",
              "// Licensed under the Apache License, Version 2.0 (the \"License\");\n",
              "// you may not use this file except in compliance with the License.\n",
              "// You may obtain a copy of the License at\n",
              "//\n",
              "//      http://www.apache.org/licenses/LICENSE-2.0\n",
              "//\n",
              "// Unless required by applicable law or agreed to in writing, software\n",
              "// distributed under the License is distributed on an \"AS IS\" BASIS,\n",
              "// WITHOUT WARRANTIES OR CONDITIONS OF ANY KIND, either express or implied.\n",
              "// See the License for the specific language governing permissions and\n",
              "// limitations under the License.\n",
              "\n",
              "/**\n",
              " * @fileoverview Helpers for google.colab Python module.\n",
              " */\n",
              "(function(scope) {\n",
              "function span(text, styleAttributes = {}) {\n",
              "  const element = document.createElement('span');\n",
              "  element.textContent = text;\n",
              "  for (const key of Object.keys(styleAttributes)) {\n",
              "    element.style[key] = styleAttributes[key];\n",
              "  }\n",
              "  return element;\n",
              "}\n",
              "\n",
              "// Max number of bytes which will be uploaded at a time.\n",
              "const MAX_PAYLOAD_SIZE = 100 * 1024;\n",
              "\n",
              "function _uploadFiles(inputId, outputId) {\n",
              "  const steps = uploadFilesStep(inputId, outputId);\n",
              "  const outputElement = document.getElementById(outputId);\n",
              "  // Cache steps on the outputElement to make it available for the next call\n",
              "  // to uploadFilesContinue from Python.\n",
              "  outputElement.steps = steps;\n",
              "\n",
              "  return _uploadFilesContinue(outputId);\n",
              "}\n",
              "\n",
              "// This is roughly an async generator (not supported in the browser yet),\n",
              "// where there are multiple asynchronous steps and the Python side is going\n",
              "// to poll for completion of each step.\n",
              "// This uses a Promise to block the python side on completion of each step,\n",
              "// then passes the result of the previous step as the input to the next step.\n",
              "function _uploadFilesContinue(outputId) {\n",
              "  const outputElement = document.getElementById(outputId);\n",
              "  const steps = outputElement.steps;\n",
              "\n",
              "  const next = steps.next(outputElement.lastPromiseValue);\n",
              "  return Promise.resolve(next.value.promise).then((value) => {\n",
              "    // Cache the last promise value to make it available to the next\n",
              "    // step of the generator.\n",
              "    outputElement.lastPromiseValue = value;\n",
              "    return next.value.response;\n",
              "  });\n",
              "}\n",
              "\n",
              "/**\n",
              " * Generator function which is called between each async step of the upload\n",
              " * process.\n",
              " * @param {string} inputId Element ID of the input file picker element.\n",
              " * @param {string} outputId Element ID of the output display.\n",
              " * @return {!Iterable<!Object>} Iterable of next steps.\n",
              " */\n",
              "function* uploadFilesStep(inputId, outputId) {\n",
              "  const inputElement = document.getElementById(inputId);\n",
              "  inputElement.disabled = false;\n",
              "\n",
              "  const outputElement = document.getElementById(outputId);\n",
              "  outputElement.innerHTML = '';\n",
              "\n",
              "  const pickedPromise = new Promise((resolve) => {\n",
              "    inputElement.addEventListener('change', (e) => {\n",
              "      resolve(e.target.files);\n",
              "    });\n",
              "  });\n",
              "\n",
              "  const cancel = document.createElement('button');\n",
              "  inputElement.parentElement.appendChild(cancel);\n",
              "  cancel.textContent = 'Cancel upload';\n",
              "  const cancelPromise = new Promise((resolve) => {\n",
              "    cancel.onclick = () => {\n",
              "      resolve(null);\n",
              "    };\n",
              "  });\n",
              "\n",
              "  // Wait for the user to pick the files.\n",
              "  const files = yield {\n",
              "    promise: Promise.race([pickedPromise, cancelPromise]),\n",
              "    response: {\n",
              "      action: 'starting',\n",
              "    }\n",
              "  };\n",
              "\n",
              "  cancel.remove();\n",
              "\n",
              "  // Disable the input element since further picks are not allowed.\n",
              "  inputElement.disabled = true;\n",
              "\n",
              "  if (!files) {\n",
              "    return {\n",
              "      response: {\n",
              "        action: 'complete',\n",
              "      }\n",
              "    };\n",
              "  }\n",
              "\n",
              "  for (const file of files) {\n",
              "    const li = document.createElement('li');\n",
              "    li.append(span(file.name, {fontWeight: 'bold'}));\n",
              "    li.append(span(\n",
              "        `(${file.type || 'n/a'}) - ${file.size} bytes, ` +\n",
              "        `last modified: ${\n",
              "            file.lastModifiedDate ? file.lastModifiedDate.toLocaleDateString() :\n",
              "                                    'n/a'} - `));\n",
              "    const percent = span('0% done');\n",
              "    li.appendChild(percent);\n",
              "\n",
              "    outputElement.appendChild(li);\n",
              "\n",
              "    const fileDataPromise = new Promise((resolve) => {\n",
              "      const reader = new FileReader();\n",
              "      reader.onload = (e) => {\n",
              "        resolve(e.target.result);\n",
              "      };\n",
              "      reader.readAsArrayBuffer(file);\n",
              "    });\n",
              "    // Wait for the data to be ready.\n",
              "    let fileData = yield {\n",
              "      promise: fileDataPromise,\n",
              "      response: {\n",
              "        action: 'continue',\n",
              "      }\n",
              "    };\n",
              "\n",
              "    // Use a chunked sending to avoid message size limits. See b/62115660.\n",
              "    let position = 0;\n",
              "    do {\n",
              "      const length = Math.min(fileData.byteLength - position, MAX_PAYLOAD_SIZE);\n",
              "      const chunk = new Uint8Array(fileData, position, length);\n",
              "      position += length;\n",
              "\n",
              "      const base64 = btoa(String.fromCharCode.apply(null, chunk));\n",
              "      yield {\n",
              "        response: {\n",
              "          action: 'append',\n",
              "          file: file.name,\n",
              "          data: base64,\n",
              "        },\n",
              "      };\n",
              "\n",
              "      let percentDone = fileData.byteLength === 0 ?\n",
              "          100 :\n",
              "          Math.round((position / fileData.byteLength) * 100);\n",
              "      percent.textContent = `${percentDone}% done`;\n",
              "\n",
              "    } while (position < fileData.byteLength);\n",
              "  }\n",
              "\n",
              "  // All done.\n",
              "  yield {\n",
              "    response: {\n",
              "      action: 'complete',\n",
              "    }\n",
              "  };\n",
              "}\n",
              "\n",
              "scope.google = scope.google || {};\n",
              "scope.google.colab = scope.google.colab || {};\n",
              "scope.google.colab._files = {\n",
              "  _uploadFiles,\n",
              "  _uploadFilesContinue,\n",
              "};\n",
              "})(self);\n",
              "</script> "
            ]
          },
          "metadata": {}
        },
        {
          "output_type": "stream",
          "name": "stdout",
          "text": [
            "Saving abc.txt to abc.txt\n"
          ]
        }
      ]
    },
    {
      "cell_type": "code",
      "source": [
        "f = open(\"abc.txt\",\"r\")\n",
        "print(f.read())"
      ],
      "metadata": {
        "colab": {
          "base_uri": "https://localhost:8080/"
        },
        "id": "zNm1dUunM8jw",
        "outputId": "3a76b818-c419-4544-bbab-206dd5af36f7"
      },
      "execution_count": null,
      "outputs": [
        {
          "output_type": "stream",
          "name": "stdout",
          "text": [
            "Data science is nothing without data. Yes, that’s obvious. What is not so obvious is the series of steps involved in getting the data into a format which allows you to explore the data. You may be in possession of a dataset in CSV format (short for comma-separated values) but no idea what to do next. This post will help you get started in data science by allowing you to load your CSV file into Colab.\n",
            "\n",
            "Colab (short for Colaboratory) is a free platform from Google that allows users to code in Python. Colab is essentially the Google Suite version of a Jupyter Notebook. Some of the advantages of Colab over Jupyter include an easier installation of packages and sharing of documents. Yet, when loading files like CSV files, it requires some extra coding. I will show you three ways to load a CSV file into Colab and insert it into a Pandas dataframe.\n",
            "\n",
            "(Note: there are Python packages that carry common datasets in them. I will not discuss loading those datasets in this article.)\n",
            "\n",
            "To start, log into your Google Account and go to Google Drive. Click on the New button on the left and select Colaboratory if it is installed (if not click on Connect more apps, search for Colaboratory and install it). From there, import Pandas as shown below (Colab has it installed already).\n",
            "\n",
            "import pandas as pd\n",
            "1) From Github (Files < 25MB)\n",
            "The easiest way to upload a CSV file is from your GitHub repository. Click on the dataset in your repository, then click on View Raw. Copy the link to the raw dataset and store it as a string variable called url in Colab as shown below (a cleaner method but it’s not necessary). The last step is to load the url into Pandas read_csv to get the dataframe.\n",
            "\n",
            "url = 'copied_raw_GH_link'\n",
            "df1 = pd.read_csv(url)\n",
            "# Dataset is now stored in a Pandas Dataframe\n",
            "2) From a local drive\n",
            "To upload from your local drive, start with the following code:\n",
            "\n",
            "from google.colab import files\n",
            "uploaded = files.upload()\n",
            "It will prompt you to select a file. Click on “Choose Files” then select and upload the file. Wait for the file to be 100% uploaded. You should see the name of the file once Colab has uploaded it.\n",
            "\n",
            "Finally, type in the following code to import it into a dataframe (make sure the filename matches the name of the uploaded file).\n",
            "\n",
            "import io\n",
            "df2 = pd.read_csv(io.BytesIO(uploaded['Filename.csv']))\n",
            "# Dataset is now stored in a Pandas Dataframe\n",
            "3) From Google Drive via PyDrive\n",
            "This is the most complicated of the three methods. I’ll show it for those that have uploaded CSV files into their Google Drive for workflow control. First, type in the following code:\n",
            "\n",
            "# Code to read csv file into Colaboratory:\n",
            "!pip install -U -q PyDrive\n",
            "from pydrive.auth import GoogleAuth\n",
            "from pydrive.drive import GoogleDrive\n",
            "from google.colab import auth\n",
            "from oauth2client.client import GoogleCredentials\n",
            "# Authenticate and create the PyDrive client.\n",
            "auth.authenticate_user()\n",
            "gauth = GoogleAuth()\n",
            "gauth.credentials = GoogleCredentials.get_application_default()\n",
            "drive = GoogleDrive(gauth)\n",
            "When prompted, click on the link to get authentication to allow Google to access your Drive. You should see a screen with “Google Cloud SDK wants to access your Google Account” at the top. After you allow permission, copy the given verification code and paste it in the box in Colab.\n",
            "\n",
            "Once you have completed verification, go to the CSV file in Google Drive, right-click on it and select “Get shareable link”. The link will be copied into your clipboard. Paste this link into a string variable in Colab.\n",
            "\n",
            "link = 'https://drive.google.com/open?id=1DPZZQ43w8brRhbEMolgLqOWKbZbE-IQu' # The shareable link\n",
            "What you want is the id portion after the equal sign. To get that portion, type in the following code:\n",
            "\n",
            "fluff, id = link.split('=')\n",
            "print (id) # Verify that you have everything after '='\n",
            "Finally, type in the following code to get this file into a dataframe\n",
            "\n",
            "downloaded = drive.CreateFile({'id':id}) \n",
            "downloaded.GetContentFile('Filename.csv')  \n",
            "df3 = pd.read_csv('Filename.csv')\n",
            "# Dataset is now stored in a Pandas Dataframe\n",
            "Final Thoughts\n",
            "These are three approaches to uploading CSV files into Colab. Each has its benefits depending on the size of the file and how one wants to organize the workflow. Once the data is in a nicer format like a Pandas Dataframe, you are ready to go to work.\n"
          ]
        }
      ]
    },
    {
      "cell_type": "code",
      "source": [
        "f = open(\"abc.txt\",\"r\")\n",
        "\n",
        "print(f.read(5))"
      ],
      "metadata": {
        "colab": {
          "base_uri": "https://localhost:8080/"
        },
        "id": "QdGqwnKlNan6",
        "outputId": "82b6e475-26b9-4b49-b5fc-ae94286a9862"
      },
      "execution_count": null,
      "outputs": [
        {
          "output_type": "stream",
          "name": "stdout",
          "text": [
            "Data \n"
          ]
        }
      ]
    },
    {
      "cell_type": "code",
      "source": [
        "f = open(\"abc.txt\",\"r\")\n",
        "\n",
        "print(f.readline())"
      ],
      "metadata": {
        "colab": {
          "base_uri": "https://localhost:8080/"
        },
        "id": "Qt8i7L1cNf_2",
        "outputId": "3f930df6-1b6e-4709-d3d9-e43f17070abc"
      },
      "execution_count": null,
      "outputs": [
        {
          "output_type": "stream",
          "name": "stdout",
          "text": [
            "Data science is nothing without data. Yes, that’s obvious. What is not so obvious is the series of steps involved in getting the data into a format which allows you to explore the data. You may be in possession of a dataset in CSV format (short for comma-separated values) but no idea what to do next. This post will help you get started in data science by allowing you to load your CSV file into Colab.\n",
            "\n"
          ]
        }
      ]
    },
    {
      "cell_type": "code",
      "source": [
        "f = open(\"abc.txt\",\"r\")\n",
        "print(f.readline())\n",
        "print(f.readline())"
      ],
      "metadata": {
        "colab": {
          "base_uri": "https://localhost:8080/"
        },
        "id": "zAZrc2qXNk69",
        "outputId": "2639f9b7-a31d-4c5b-c74d-7977223ef44c"
      },
      "execution_count": null,
      "outputs": [
        {
          "output_type": "stream",
          "name": "stdout",
          "text": [
            "Data science is nothing without data. Yes, that’s obvious. What is not so obvious is the series of steps involved in getting the data into a format which allows you to explore the data. You may be in possession of a dataset in CSV format (short for comma-separated values) but no idea what to do next. This post will help you get started in data science by allowing you to load your CSV file into Colab.\n",
            "\n",
            "\n",
            "\n"
          ]
        }
      ]
    },
    {
      "cell_type": "code",
      "source": [
        "f = open(\"abc.txt\", \"r\")\n",
        "for x in f:\n",
        "  print(x)"
      ],
      "metadata": {
        "colab": {
          "base_uri": "https://localhost:8080/"
        },
        "id": "LhxpUByrObKa",
        "outputId": "da6f7f20-e4ff-46b2-f333-0fddcfcaeef9"
      },
      "execution_count": null,
      "outputs": [
        {
          "output_type": "stream",
          "name": "stdout",
          "text": [
            "Data science is nothing without data. Yes, that’s obvious. What is not so obvious is the series of steps involved in getting the data into a format which allows you to explore the data. You may be in possession of a dataset in CSV format (short for comma-separated values) but no idea what to do next. This post will help you get started in data science by allowing you to load your CSV file into Colab.\n",
            "\n",
            "\n",
            "\n",
            "Colab (short for Colaboratory) is a free platform from Google that allows users to code in Python. Colab is essentially the Google Suite version of a Jupyter Notebook. Some of the advantages of Colab over Jupyter include an easier installation of packages and sharing of documents. Yet, when loading files like CSV files, it requires some extra coding. I will show you three ways to load a CSV file into Colab and insert it into a Pandas dataframe.\n",
            "\n",
            "\n",
            "\n",
            "(Note: there are Python packages that carry common datasets in them. I will not discuss loading those datasets in this article.)\n",
            "\n",
            "\n",
            "\n",
            "To start, log into your Google Account and go to Google Drive. Click on the New button on the left and select Colaboratory if it is installed (if not click on Connect more apps, search for Colaboratory and install it). From there, import Pandas as shown below (Colab has it installed already).\n",
            "\n",
            "\n",
            "\n",
            "import pandas as pd\n",
            "\n",
            "1) From Github (Files < 25MB)\n",
            "\n",
            "The easiest way to upload a CSV file is from your GitHub repository. Click on the dataset in your repository, then click on View Raw. Copy the link to the raw dataset and store it as a string variable called url in Colab as shown below (a cleaner method but it’s not necessary). The last step is to load the url into Pandas read_csv to get the dataframe.\n",
            "\n",
            "\n",
            "\n",
            "url = 'copied_raw_GH_link'\n",
            "\n",
            "df1 = pd.read_csv(url)\n",
            "\n",
            "# Dataset is now stored in a Pandas Dataframe\n",
            "\n",
            "2) From a local drive\n",
            "\n",
            "To upload from your local drive, start with the following code:\n",
            "\n",
            "\n",
            "\n",
            "from google.colab import files\n",
            "\n",
            "uploaded = files.upload()\n",
            "\n",
            "It will prompt you to select a file. Click on “Choose Files” then select and upload the file. Wait for the file to be 100% uploaded. You should see the name of the file once Colab has uploaded it.\n",
            "\n",
            "\n",
            "\n",
            "Finally, type in the following code to import it into a dataframe (make sure the filename matches the name of the uploaded file).\n",
            "\n",
            "\n",
            "\n",
            "import io\n",
            "\n",
            "df2 = pd.read_csv(io.BytesIO(uploaded['Filename.csv']))\n",
            "\n",
            "# Dataset is now stored in a Pandas Dataframe\n",
            "\n",
            "3) From Google Drive via PyDrive\n",
            "\n",
            "This is the most complicated of the three methods. I’ll show it for those that have uploaded CSV files into their Google Drive for workflow control. First, type in the following code:\n",
            "\n",
            "\n",
            "\n",
            "# Code to read csv file into Colaboratory:\n",
            "\n",
            "!pip install -U -q PyDrive\n",
            "\n",
            "from pydrive.auth import GoogleAuth\n",
            "\n",
            "from pydrive.drive import GoogleDrive\n",
            "\n",
            "from google.colab import auth\n",
            "\n",
            "from oauth2client.client import GoogleCredentials\n",
            "\n",
            "# Authenticate and create the PyDrive client.\n",
            "\n",
            "auth.authenticate_user()\n",
            "\n",
            "gauth = GoogleAuth()\n",
            "\n",
            "gauth.credentials = GoogleCredentials.get_application_default()\n",
            "\n",
            "drive = GoogleDrive(gauth)\n",
            "\n",
            "When prompted, click on the link to get authentication to allow Google to access your Drive. You should see a screen with “Google Cloud SDK wants to access your Google Account” at the top. After you allow permission, copy the given verification code and paste it in the box in Colab.\n",
            "\n",
            "\n",
            "\n",
            "Once you have completed verification, go to the CSV file in Google Drive, right-click on it and select “Get shareable link”. The link will be copied into your clipboard. Paste this link into a string variable in Colab.\n",
            "\n",
            "\n",
            "\n",
            "link = 'https://drive.google.com/open?id=1DPZZQ43w8brRhbEMolgLqOWKbZbE-IQu' # The shareable link\n",
            "\n",
            "What you want is the id portion after the equal sign. To get that portion, type in the following code:\n",
            "\n",
            "\n",
            "\n",
            "fluff, id = link.split('=')\n",
            "\n",
            "print (id) # Verify that you have everything after '='\n",
            "\n",
            "Finally, type in the following code to get this file into a dataframe\n",
            "\n",
            "\n",
            "\n",
            "downloaded = drive.CreateFile({'id':id}) \n",
            "\n",
            "downloaded.GetContentFile('Filename.csv')  \n",
            "\n",
            "df3 = pd.read_csv('Filename.csv')\n",
            "\n",
            "# Dataset is now stored in a Pandas Dataframe\n",
            "\n",
            "Final Thoughts\n",
            "\n",
            "These are three approaches to uploading CSV files into Colab. Each has its benefits depending on the size of the file and how one wants to organize the workflow. Once the data is in a nicer format like a Pandas Dataframe, you are ready to go to work.\n"
          ]
        }
      ]
    },
    {
      "cell_type": "code",
      "source": [
        "f = open(\"abc2.txt\", \"a\")\n",
        "f.write(\"Now the file has more content!\")\n",
        "f.close()\n",
        "\n",
        "#open and read the file after the appending:\n",
        "f = open(\"abc2.txt\", \"r\")\n",
        "print(f.read())"
      ],
      "metadata": {
        "colab": {
          "base_uri": "https://localhost:8080/"
        },
        "id": "iFo-aL73OhZ4",
        "outputId": "0cdcd28e-9acf-45f8-9960-0809fa6d35dd"
      },
      "execution_count": null,
      "outputs": [
        {
          "output_type": "stream",
          "name": "stdout",
          "text": [
            "Now the file has more content!Now the file has more content!\n"
          ]
        }
      ]
    },
    {
      "cell_type": "code",
      "source": [
        "f = open(\"demofile3.txt\", \"w\")\n",
        "f.write(\"Woops! I have deleted the content!\")\n",
        "f.close()\n",
        "\n",
        "#open and read the file after the overwriting:\n",
        "f = open(\"demofile3.txt\", \"r\")\n",
        "print(f.read())"
      ],
      "metadata": {
        "id": "VwwxUCZTO3fW",
        "outputId": "ae3b3574-ebd8-46a5-d2fd-44adab4bf577",
        "colab": {
          "base_uri": "https://localhost:8080/"
        }
      },
      "execution_count": null,
      "outputs": [
        {
          "output_type": "stream",
          "name": "stdout",
          "text": [
            "Woops! I have deleted the content!\n"
          ]
        }
      ]
    },
    {
      "cell_type": "code",
      "source": [
        "import os\n",
        "os.remove(\"demofile.txt\")"
      ],
      "metadata": {
        "id": "E6I4hKCtO77x"
      },
      "execution_count": null,
      "outputs": []
    }
  ]
}